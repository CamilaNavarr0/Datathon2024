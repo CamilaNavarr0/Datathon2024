{
 "cells": [
  {
   "cell_type": "code",
   "execution_count": 11,
   "metadata": {},
   "outputs": [],
   "source": [
    "import pandas as pd\n",
    "import numpy as np"
   ]
  },
  {
   "cell_type": "code",
   "execution_count": 12,
   "metadata": {},
   "outputs": [],
   "source": [
    "flights = pd.read_csv('data/Filghts_TEC_Valid.csv')\n",
    "sales = pd.read_csv('data/Sales_TEC_Valid.csv')"
   ]
  },
  {
   "cell_type": "code",
   "execution_count": 13,
   "metadata": {},
   "outputs": [],
   "source": [
    "flights['STD'] = pd.to_datetime(flights['STD'])\n",
    "flights['STA'] = pd.to_datetime(flights['STA'])"
   ]
  },
  {
   "cell_type": "code",
   "execution_count": 14,
   "metadata": {},
   "outputs": [],
   "source": [
    "flights = flights.sort_values(by=['Flight_ID'])\n",
    "flights.reset_index(drop=True, inplace=True)"
   ]
  },
  {
   "cell_type": "code",
   "execution_count": 15,
   "metadata": {},
   "outputs": [],
   "source": [
    "import pandas as pd\n",
    "\n",
    "def keep_last_occurrence(df, unique_columns):\n",
    "    # Sort the DataFrame by 'Aeronave' column in descending order to keep the last occurrence\n",
    "    df = df.sort_values(by='Aeronave', ascending=False)\n",
    "    # Drop duplicates based on the specified unique columns, keeping the first occurrence\n",
    "    df = df.drop_duplicates(subset=unique_columns, keep='first')\n",
    "    return df\n",
    "\n",
    "\n"
   ]
  },
  {
   "cell_type": "code",
   "execution_count": 16,
   "metadata": {},
   "outputs": [],
   "source": [
    "flights_copy = flights.copy()\n",
    "\n",
    "\n",
    "# Define the unique columns (all columns except 'Aeronave')\n",
    "unique_columns = [col for col in flights_copy.columns if col != 'Aeronave']\n",
    "\n",
    "# Apply the function\n",
    "result = keep_last_occurrence(flights_copy, unique_columns)\n"
   ]
  },
  {
   "cell_type": "code",
   "execution_count": 28,
   "metadata": {},
   "outputs": [],
   "source": [
    "result.to_csv('data/result.csv', index=False)"
   ]
  },
  {
   "cell_type": "code",
   "execution_count": 17,
   "metadata": {},
   "outputs": [],
   "source": [
    "import pandas as pd\n",
    "\n",
    "def consolidate_flights(df):\n",
    "    # Convert 'STD' and 'STA' to datetime\n",
    "    df['STD'] = pd.to_datetime(df['STD'])\n",
    "    df['STA'] = pd.to_datetime(df['STA'])\n",
    "\n",
    "    # Group by 'Flight_ID' to consolidate information\n",
    "    result = df.groupby('Flight_ID').apply(consolidate_group).reset_index(drop=True)\n",
    "\n",
    "    # Classify remaining flights based on the flight duration\n",
    "    result = classify_flight_type(result)\n",
    "\n",
    "    return result\n",
    "\n",
    "def consolidate_group(group):\n",
    "    if len(group) > 1:  # Check if the group has more than one flight, meaning it's a merged flight\n",
    "        tipo_vuelo = 'Largo'\n",
    "    else:\n",
    "        tipo_vuelo = 'Corto'  # Default to Corto, will be reclassified if necessary\n",
    "\n",
    "    # Sort by 'STD' to get the order of the flights\n",
    "    group = group.sort_values(by='STD')\n",
    "\n",
    "    # Consolidate information\n",
    "    consolidated = {\n",
    "        'Flight_ID': group['Flight_ID'].iloc[0],\n",
    "        'Aeronave': group['Aeronave'].iloc[0],\n",
    "        'Capacity': group['Capacity'].iloc[0],\n",
    "        'DepartureStation': group['DepartureStation'].iloc[0],\n",
    "        'ArrivalStation': group['ArrivalStation'].iloc[-1],\n",
    "        'Destination_Type': group['Destination_Type'].iloc[-1],\n",
    "        'Origin_Type': group['Origin_Type'].iloc[0],\n",
    "        'STD': group['STD'].iloc[0],\n",
    "        'STA': group['STA'].iloc[-1],\n",
    "        'Passengers': compute_average_or_single_value(group['Passengers']),\n",
    "        'Bookings': compute_average_or_single_value(group['Bookings']),\n",
    "        'tipo_vuelo': tipo_vuelo  # Assign tipo_vuelo based on consolidation\n",
    "    }\n",
    "\n",
    "    return pd.Series(consolidated)\n",
    "\n",
    "def classify_flight_type(df):\n",
    "    # Only reclassify flights that were initially labeled as 'Corto'\n",
    "    corto_mask = df['tipo_vuelo'] == 'Corto'\n",
    "    time_difference = (df.loc[corto_mask, 'STA'] - df.loc[corto_mask, 'STD']).dt.total_seconds() / 60\n",
    "\n",
    "    df.loc[corto_mask, 'tipo_vuelo'] = time_difference.apply(lambda x: 'Largo' if x > 150 else 'Corto')\n",
    "    return df\n",
    "\n",
    "def compute_average_or_single_value(series):\n",
    "    # Filter out NaN values\n",
    "    non_nan_values = series.dropna()\n",
    "\n",
    "    if len(non_nan_values) == 0:\n",
    "        return np.nan\n",
    "    elif len(non_nan_values) == 1:\n",
    "        return non_nan_values.iloc[0]\n",
    "    else:\n",
    "        return non_nan_values.mean()"
   ]
  },
  {
   "cell_type": "code",
   "execution_count": 18,
   "metadata": {},
   "outputs": [],
   "source": [
    "consolidated_df = consolidate_flights(result)\n"
   ]
  },
  {
   "cell_type": "code",
   "execution_count": 29,
   "metadata": {},
   "outputs": [],
   "source": [
    "consolidated_df.to_csv('data/consolidated.csv', index=False)"
   ]
  },
  {
   "cell_type": "code",
   "execution_count": 36,
   "metadata": {},
   "outputs": [],
   "source": [
    "# Convert 'STD' to datetime if not already\n",
    "consolidated_df['STD'] = pd.to_datetime(consolidated_df['STD'])\n",
    "\n",
    "# Filter data for the year 2023\n",
    "data_2023 = consolidated_df[consolidated_df['STD'].dt.year == 2023]\n",
    "\n",
    "# Filter data for the year 2024\n",
    "data_2024 = consolidated_df[consolidated_df['STD'].dt.year == 2024]"
   ]
  },
  {
   "cell_type": "code",
   "execution_count": 52,
   "metadata": {},
   "outputs": [
    {
     "data": {
      "text/plain": [
       "(119645, 12)"
      ]
     },
     "execution_count": 52,
     "metadata": {},
     "output_type": "execute_result"
    }
   ],
   "source": [
    "data_2023.shape"
   ]
  },
  {
   "cell_type": "code",
   "execution_count": 53,
   "metadata": {},
   "outputs": [],
   "source": [
    "def clean_passenger_col(df):\n",
    "    # Select only records of flights with more than one passenger\n",
    "    df = df[df['Passengers'] >= 70]\n",
    "    # Replace the number of passengers with the capacity when the number of passengers is greater than capacity\n",
    "    df['Passengers'] = df[['Passengers', 'Capacity']].min(axis=1)\n",
    "    return df"
   ]
  },
  {
   "cell_type": "code",
   "execution_count": 54,
   "metadata": {},
   "outputs": [
    {
     "name": "stderr",
     "output_type": "stream",
     "text": [
      "/var/folders/km/dfm8dyn94yggw0mhf5zkplhr0000gn/T/ipykernel_72555/3950865421.py:5: SettingWithCopyWarning: \n",
      "A value is trying to be set on a copy of a slice from a DataFrame.\n",
      "Try using .loc[row_indexer,col_indexer] = value instead\n",
      "\n",
      "See the caveats in the documentation: https://pandas.pydata.org/pandas-docs/stable/user_guide/indexing.html#returning-a-view-versus-a-copy\n",
      "  df['Passengers'] = df[['Passengers', 'Capacity']].min(axis=1)\n"
     ]
    }
   ],
   "source": [
    "data_2023_modelo = clean_passenger_col(data_2023)\n"
   ]
  },
  {
   "cell_type": "code",
   "execution_count": 59,
   "metadata": {},
   "outputs": [
    {
     "data": {
      "text/plain": [
       "(118953, 12)"
      ]
     },
     "execution_count": 59,
     "metadata": {},
     "output_type": "execute_result"
    }
   ],
   "source": [
    "data_2023_modelo.shape\n"
   ]
  },
  {
   "cell_type": "code",
   "execution_count": 62,
   "metadata": {},
   "outputs": [],
   "source": [
    "data_2023_modelo.to_csv('data/data_2023_modelo.csv', index=False)\n"
   ]
  },
  {
   "cell_type": "code",
   "execution_count": 63,
   "metadata": {},
   "outputs": [],
   "source": [
    "data_2024.to_csv('data/data_2024.csv', index=False)"
   ]
  },
  {
   "cell_type": "code",
   "execution_count": 64,
   "metadata": {},
   "outputs": [
    {
     "data": {
      "text/html": [
       "<div>\n",
       "<style scoped>\n",
       "    .dataframe tbody tr th:only-of-type {\n",
       "        vertical-align: middle;\n",
       "    }\n",
       "\n",
       "    .dataframe tbody tr th {\n",
       "        vertical-align: top;\n",
       "    }\n",
       "\n",
       "    .dataframe thead th {\n",
       "        text-align: right;\n",
       "    }\n",
       "</style>\n",
       "<table border=\"1\" class=\"dataframe\">\n",
       "  <thead>\n",
       "    <tr style=\"text-align: right;\">\n",
       "      <th></th>\n",
       "      <th>Flight_ID</th>\n",
       "      <th>Aeronave</th>\n",
       "      <th>Capacity</th>\n",
       "      <th>DepartureStation</th>\n",
       "      <th>ArrivalStation</th>\n",
       "      <th>Destination_Type</th>\n",
       "      <th>Origin_Type</th>\n",
       "      <th>STD</th>\n",
       "      <th>STA</th>\n",
       "      <th>Passengers</th>\n",
       "      <th>Bookings</th>\n",
       "      <th>tipo_vuelo</th>\n",
       "    </tr>\n",
       "  </thead>\n",
       "  <tbody>\n",
       "    <tr>\n",
       "      <th>1</th>\n",
       "      <td>0000a70ace2593137b79ace332478392</td>\n",
       "      <td>NaN</td>\n",
       "      <td>220</td>\n",
       "      <td>BN</td>\n",
       "      <td>AW</td>\n",
       "      <td>Ciudad Principal</td>\n",
       "      <td>MX Amigos y Familia</td>\n",
       "      <td>2024-06-13 20:00:00</td>\n",
       "      <td>2024-06-13 21:35:00</td>\n",
       "      <td>NaN</td>\n",
       "      <td>NaN</td>\n",
       "      <td>Corto</td>\n",
       "    </tr>\n",
       "    <tr>\n",
       "      <th>2</th>\n",
       "      <td>0000c5ba279c7225e9f6bac8490678e1</td>\n",
       "      <td>XA-VBT</td>\n",
       "      <td>220</td>\n",
       "      <td>AT</td>\n",
       "      <td>BD</td>\n",
       "      <td>Playa</td>\n",
       "      <td>Ciudad Principal</td>\n",
       "      <td>2024-03-03 15:10:00</td>\n",
       "      <td>2024-03-03 16:50:00</td>\n",
       "      <td>NaN</td>\n",
       "      <td>NaN</td>\n",
       "      <td>Corto</td>\n",
       "    </tr>\n",
       "    <tr>\n",
       "      <th>5</th>\n",
       "      <td>000131796f507492b61232912b171f28</td>\n",
       "      <td>NaN</td>\n",
       "      <td>186</td>\n",
       "      <td>BA</td>\n",
       "      <td>AK</td>\n",
       "      <td>Playa</td>\n",
       "      <td>Ciudad Principal</td>\n",
       "      <td>2024-10-11 10:30:00</td>\n",
       "      <td>2024-10-11 13:45:00</td>\n",
       "      <td>NaN</td>\n",
       "      <td>NaN</td>\n",
       "      <td>Largo</td>\n",
       "    </tr>\n",
       "    <tr>\n",
       "      <th>6</th>\n",
       "      <td>000158c9b43de5c11cb46d96b0501f2e</td>\n",
       "      <td>9H-AML</td>\n",
       "      <td>178</td>\n",
       "      <td>BN</td>\n",
       "      <td>AW</td>\n",
       "      <td>Ciudad Principal</td>\n",
       "      <td>MX Amigos y Familia</td>\n",
       "      <td>2024-04-23 17:45:00</td>\n",
       "      <td>2024-04-23 19:25:00</td>\n",
       "      <td>NaN</td>\n",
       "      <td>NaN</td>\n",
       "      <td>Corto</td>\n",
       "    </tr>\n",
       "    <tr>\n",
       "      <th>10</th>\n",
       "      <td>0003eae4dce252fd91f056612b615897</td>\n",
       "      <td>NaN</td>\n",
       "      <td>180</td>\n",
       "      <td>BL</td>\n",
       "      <td>AO</td>\n",
       "      <td>Ciudad Principal</td>\n",
       "      <td>Ecoturismo</td>\n",
       "      <td>2024-09-03 13:05:00</td>\n",
       "      <td>2024-09-03 15:05:00</td>\n",
       "      <td>NaN</td>\n",
       "      <td>NaN</td>\n",
       "      <td>Corto</td>\n",
       "    </tr>\n",
       "    <tr>\n",
       "      <th>...</th>\n",
       "      <td>...</td>\n",
       "      <td>...</td>\n",
       "      <td>...</td>\n",
       "      <td>...</td>\n",
       "      <td>...</td>\n",
       "      <td>...</td>\n",
       "      <td>...</td>\n",
       "      <td>...</td>\n",
       "      <td>...</td>\n",
       "      <td>...</td>\n",
       "      <td>...</td>\n",
       "      <td>...</td>\n",
       "    </tr>\n",
       "    <tr>\n",
       "      <th>238047</th>\n",
       "      <td>fffe7dce5952e95bdeecf51961bde767</td>\n",
       "      <td>NaN</td>\n",
       "      <td>180</td>\n",
       "      <td>AW</td>\n",
       "      <td>BH</td>\n",
       "      <td>Playa</td>\n",
       "      <td>Ciudad Principal</td>\n",
       "      <td>2024-07-06 08:20:00</td>\n",
       "      <td>2024-07-06 09:15:00</td>\n",
       "      <td>NaN</td>\n",
       "      <td>NaN</td>\n",
       "      <td>Corto</td>\n",
       "    </tr>\n",
       "    <tr>\n",
       "      <th>238048</th>\n",
       "      <td>fffec7d17cb550ce70c0d7fd8a203b4e</td>\n",
       "      <td>NaN</td>\n",
       "      <td>180</td>\n",
       "      <td>AT</td>\n",
       "      <td>AK</td>\n",
       "      <td>Playa</td>\n",
       "      <td>Ciudad Principal</td>\n",
       "      <td>2024-07-26 15:00:00</td>\n",
       "      <td>2024-07-26 18:25:00</td>\n",
       "      <td>NaN</td>\n",
       "      <td>NaN</td>\n",
       "      <td>Largo</td>\n",
       "    </tr>\n",
       "    <tr>\n",
       "      <th>238049</th>\n",
       "      <td>fffed485a13460817032edbb8eca9295</td>\n",
       "      <td>XA-VCC</td>\n",
       "      <td>230</td>\n",
       "      <td>AY</td>\n",
       "      <td>BA</td>\n",
       "      <td>Ciudad Principal</td>\n",
       "      <td>Playa</td>\n",
       "      <td>2024-04-05 14:20:00</td>\n",
       "      <td>2024-04-05 17:00:00</td>\n",
       "      <td>NaN</td>\n",
       "      <td>NaN</td>\n",
       "      <td>Largo</td>\n",
       "    </tr>\n",
       "    <tr>\n",
       "      <th>238051</th>\n",
       "      <td>ffff1e8f5485017f4c5a6a1919369156</td>\n",
       "      <td>XA-VIL</td>\n",
       "      <td>186</td>\n",
       "      <td>AT</td>\n",
       "      <td>AW</td>\n",
       "      <td>Ciudad Principal</td>\n",
       "      <td>Ciudad Principal</td>\n",
       "      <td>2024-04-23 05:40:00</td>\n",
       "      <td>2024-04-23 07:25:00</td>\n",
       "      <td>NaN</td>\n",
       "      <td>NaN</td>\n",
       "      <td>Corto</td>\n",
       "    </tr>\n",
       "    <tr>\n",
       "      <th>238052</th>\n",
       "      <td>ffff3393e8b4a4c0c0eec0718a82b564</td>\n",
       "      <td>9H-MLC</td>\n",
       "      <td>178</td>\n",
       "      <td>AR</td>\n",
       "      <td>AO</td>\n",
       "      <td>Ciudad Principal</td>\n",
       "      <td>Playa</td>\n",
       "      <td>2024-03-19 13:25:00</td>\n",
       "      <td>2024-03-19 16:00:00</td>\n",
       "      <td>NaN</td>\n",
       "      <td>NaN</td>\n",
       "      <td>Largo</td>\n",
       "    </tr>\n",
       "  </tbody>\n",
       "</table>\n",
       "<p>116729 rows × 12 columns</p>\n",
       "</div>"
      ],
      "text/plain": [
       "                               Flight_ID Aeronave  Capacity DepartureStation   \n",
       "1       0000a70ace2593137b79ace332478392      NaN       220               BN  \\\n",
       "2       0000c5ba279c7225e9f6bac8490678e1   XA-VBT       220               AT   \n",
       "5       000131796f507492b61232912b171f28      NaN       186               BA   \n",
       "6       000158c9b43de5c11cb46d96b0501f2e   9H-AML       178               BN   \n",
       "10      0003eae4dce252fd91f056612b615897      NaN       180               BL   \n",
       "...                                  ...      ...       ...              ...   \n",
       "238047  fffe7dce5952e95bdeecf51961bde767      NaN       180               AW   \n",
       "238048  fffec7d17cb550ce70c0d7fd8a203b4e      NaN       180               AT   \n",
       "238049  fffed485a13460817032edbb8eca9295   XA-VCC       230               AY   \n",
       "238051  ffff1e8f5485017f4c5a6a1919369156   XA-VIL       186               AT   \n",
       "238052  ffff3393e8b4a4c0c0eec0718a82b564   9H-MLC       178               AR   \n",
       "\n",
       "       ArrivalStation  Destination_Type          Origin_Type   \n",
       "1                  AW  Ciudad Principal  MX Amigos y Familia  \\\n",
       "2                  BD             Playa     Ciudad Principal   \n",
       "5                  AK             Playa     Ciudad Principal   \n",
       "6                  AW  Ciudad Principal  MX Amigos y Familia   \n",
       "10                 AO  Ciudad Principal           Ecoturismo   \n",
       "...               ...               ...                  ...   \n",
       "238047             BH             Playa     Ciudad Principal   \n",
       "238048             AK             Playa     Ciudad Principal   \n",
       "238049             BA  Ciudad Principal                Playa   \n",
       "238051             AW  Ciudad Principal     Ciudad Principal   \n",
       "238052             AO  Ciudad Principal                Playa   \n",
       "\n",
       "                       STD                 STA  Passengers  Bookings   \n",
       "1      2024-06-13 20:00:00 2024-06-13 21:35:00         NaN       NaN  \\\n",
       "2      2024-03-03 15:10:00 2024-03-03 16:50:00         NaN       NaN   \n",
       "5      2024-10-11 10:30:00 2024-10-11 13:45:00         NaN       NaN   \n",
       "6      2024-04-23 17:45:00 2024-04-23 19:25:00         NaN       NaN   \n",
       "10     2024-09-03 13:05:00 2024-09-03 15:05:00         NaN       NaN   \n",
       "...                    ...                 ...         ...       ...   \n",
       "238047 2024-07-06 08:20:00 2024-07-06 09:15:00         NaN       NaN   \n",
       "238048 2024-07-26 15:00:00 2024-07-26 18:25:00         NaN       NaN   \n",
       "238049 2024-04-05 14:20:00 2024-04-05 17:00:00         NaN       NaN   \n",
       "238051 2024-04-23 05:40:00 2024-04-23 07:25:00         NaN       NaN   \n",
       "238052 2024-03-19 13:25:00 2024-03-19 16:00:00         NaN       NaN   \n",
       "\n",
       "       tipo_vuelo  \n",
       "1           Corto  \n",
       "2           Corto  \n",
       "5           Largo  \n",
       "6           Corto  \n",
       "10          Corto  \n",
       "...           ...  \n",
       "238047      Corto  \n",
       "238048      Largo  \n",
       "238049      Largo  \n",
       "238051      Corto  \n",
       "238052      Largo  \n",
       "\n",
       "[116729 rows x 12 columns]"
      ]
     },
     "execution_count": 64,
     "metadata": {},
     "output_type": "execute_result"
    }
   ],
   "source": [
    "data_2024"
   ]
  },
  {
   "cell_type": "code",
   "execution_count": 27,
   "metadata": {},
   "outputs": [
    {
     "data": {
      "text/plain": [
       "array([2023], dtype=int32)"
      ]
     },
     "execution_count": 27,
     "metadata": {},
     "output_type": "execute_result"
    }
   ],
   "source": [
    "\n",
    "data_2023['STD'].dt.year.unique()"
   ]
  }
 ],
 "metadata": {
  "kernelspec": {
   "display_name": "MLcourse",
   "language": "python",
   "name": "python3"
  },
  "language_info": {
   "codemirror_mode": {
    "name": "ipython",
    "version": 3
   },
   "file_extension": ".py",
   "mimetype": "text/x-python",
   "name": "python",
   "nbconvert_exporter": "python",
   "pygments_lexer": "ipython3",
   "version": "3.11.2"
  }
 },
 "nbformat": 4,
 "nbformat_minor": 2
}
