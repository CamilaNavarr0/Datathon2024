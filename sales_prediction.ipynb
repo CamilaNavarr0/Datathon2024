{
  "cells": [
    {
      "cell_type": "code",
      "execution_count": 1,
      "metadata": {
        "id": "dQMMJt42M_hz"
      },
      "outputs": [],
      "source": [
        "import pandas as pd\n",
        "import numpy as np\n",
        "from catboost import CatBoostRegressor\n",
        "from sklearn.model_selection import train_test_split\n",
        "from sklearn.metrics import mean_squared_error, mean_absolute_error\n",
        "import holidays"
      ]
    },
    {
      "cell_type": "code",
      "execution_count": 148,
      "metadata": {
        "id": "wrPSyzOLN3BK"
      },
      "outputs": [],
      "source": [
        "sales = pd.read_csv('data/sales_2023.csv')"
      ]
    },
    {
      "cell_type": "code",
      "execution_count": 106,
      "metadata": {
        "id": "r16u-DQmOcpL"
      },
      "outputs": [],
      "source": [
        "# For United States holidays (change the country accordingly)\n",
        "mx_holidays = holidays.Mexico()\n",
        "\n",
        "# Function to determine if a date is a holiday\n",
        "def is_holiday(date):\n",
        "    return date in mx_holidays\n",
        "\n",
        "\n",
        "def data_preprocessing(data):\n",
        "    data['STD'] = pd.to_datetime(data['STD'])  # Make sure the STD column is in datetime format\n",
        "    # Create a new column 'holidays' based on whether the date in 'STD' is a holiday\n",
        "    data['holidays'] = data['STD'].apply(is_holiday).astype(int)  # Convert boolean to int (1 for True, 0 for False)\n",
        "    data['month'] = data['STD'].dt.month\n",
        "    data['day_of_week'] = data['STD'].dt.dayofweek\n",
        "    data['hour'] = data['STD'].dt.hour\n",
        "    data['minute'] = data['STD'].dt.minute  # Extracting minute\n",
        "    # Define categorical features for CatBoost\n",
        "    # Splitting the data\n",
        "    X = data.drop(['Quantity', 'Perecedero', 'STA','STD','Flight_ID','Bookings','TotalSales', 'Aeronave'], axis=1)\n",
        "    y = data['Quantity']\n",
        "    return X, y\n",
        "\n"
      ]
    },
    {
      "cell_type": "code",
      "execution_count": 107,
      "metadata": {
        "id": "f9UkqI_lUlQ-"
      },
      "outputs": [],
      "source": [
        "# Define categorical features for CatBoost\n",
        "categorical_features = ['ProductType', 'ProductName', 'DepartureStation', 'ArrivalStation', 'Destination_Type', 'Origin_Type', 'tipo_vuelo', 'month', 'day_of_week', 'hour', 'minute', 'holidays']\n"
      ]
    },
    {
      "cell_type": "code",
      "execution_count": 108,
      "metadata": {
        "colab": {
          "base_uri": "https://localhost:8080/",
          "height": 704
        },
        "id": "1RvDFICEW8E8",
        "outputId": "f8ab2b38-a79e-4140-b20a-1d9d25b6f7a1"
      },
      "outputs": [],
      "source": [
        "X, y = data_preprocessing(sales)"
      ]
    },
    {
      "cell_type": "code",
      "execution_count": 111,
      "metadata": {},
      "outputs": [],
      "source": [
        "# Creating a dictionary from the DataFrame columns\n",
        "product_type = dict(zip(X['ProductName'], X['ProductType']))"
      ]
    },
    {
      "cell_type": "code",
      "execution_count": 9,
      "metadata": {
        "id": "es0Ml_9hTpBc"
      },
      "outputs": [],
      "source": [
        "# Train, validation, test split\n",
        "X_train_valid, X_test, y_train_valid, y_test = train_test_split(\n",
        "    X,\n",
        "    y,\n",
        "    test_size=0.2,\n",
        "    random_state=2023,\n",
        "    shuffle=True\n",
        ")\n",
        "\n",
        "X_train, X_valid, y_train, y_valid = train_test_split(\n",
        "    X_train_valid,\n",
        "    y_train_valid,\n",
        "    test_size=0.25,\n",
        "    random_state=2023,\n",
        "    shuffle=True\n",
        ")\n",
        "\n",
        "# Convert to pandas DataFrame\n",
        "X_train = pd.DataFrame(X_train, columns=X.columns)\n",
        "X_valid = pd.DataFrame(X_valid, columns=X.columns)\n",
        "X_test = pd.DataFrame(X_test, columns=X.columns)\n",
        "y_train = pd.DataFrame(y_train, columns=['Quantity'])\n",
        "y_valid = pd.DataFrame(y_valid, columns=['Quantity'])\n",
        "y_test = pd.DataFrame(y_test, columns=['Quantity'])\n"
      ]
    },
    {
      "cell_type": "code",
      "execution_count": 113,
      "metadata": {
        "colab": {
          "base_uri": "https://localhost:8080/"
        },
        "id": "MQqDgWg0WG6Y",
        "outputId": "11b53242-8787-4f95-cba7-a4fde565348d"
      },
      "outputs": [
        {
          "name": "stdout",
          "output_type": "stream",
          "text": [
            "Learning rate set to 0.155849\n",
            "0:\tlearn: 2.4773177\ttest: 2.4700935\tbest: 2.4700935 (0)\ttotal: 584ms\tremaining: 9m 43s\n",
            "500:\tlearn: 1.7375885\ttest: 1.7389409\tbest: 1.7389409 (500)\ttotal: 3m\tremaining: 2m 59s\n",
            "999:\tlearn: 1.7180260\ttest: 1.7298595\tbest: 1.7298369 (997)\ttotal: 6m 13s\tremaining: 0us\n",
            "\n",
            "bestTest = 1.729836901\n",
            "bestIteration = 997\n",
            "\n",
            "Shrink model to first 998 iterations.\n",
            "RMSE: 1.7330563298283155\n",
            "MAE: 1.0762447970257485\n"
          ]
        }
      ],
      "source": [
        "# Initialize CatBoostRegressor\n",
        "model = CatBoostRegressor(cat_features=categorical_features, verbose=500, iterations=1000)\n",
        "\n",
        "# Train the model\n",
        "model.fit(X_train, y_train, eval_set=(X_valid, y_valid))\n",
        "\n",
        "# Evaluate the model on the test set\n",
        "predictions = model.predict(X_test)\n",
        "rmse = mean_squared_error(y_test, predictions, squared=False)\n",
        "mae = mean_absolute_error(y_test, predictions)\n",
        "\n",
        "print(f'RMSE: {rmse}')\n",
        "print(f'MAE: {mae}')"
      ]
    },
    {
      "cell_type": "code",
      "execution_count": 114,
      "metadata": {
        "colab": {
          "base_uri": "https://localhost:8080/",
          "height": 367
        },
        "id": "GwpL2rAgYk4O",
        "outputId": "be467442-06b0-43c6-a28e-122231112950"
      },
      "outputs": [
        {
          "name": "stdout",
          "output_type": "stream",
          "text": [
            "Feature Importances:\n",
            "          Feature Id  Importances\n",
            "0        ProductName    44.110582\n",
            "1     ArrivalStation    14.832251\n",
            "2   DepartureStation    12.944794\n",
            "3               hour     9.404913\n",
            "4         Passengers     6.874343\n",
            "5              month     3.147216\n",
            "6         tipo_vuelo     2.597981\n",
            "7   Destination_Type     1.529699\n",
            "8        ProductType     1.520505\n",
            "9        Origin_Type     1.070854\n",
            "10       day_of_week     1.070159\n",
            "11            minute     0.733484\n",
            "12          Capacity     0.144626\n",
            "13          holidays     0.018590\n"
          ]
        }
      ],
      "source": [
        "# Get feature importances\n",
        "feature_importances = model.get_feature_importance(prettified=True)\n",
        "print(\"Feature Importances:\")\n",
        "print(feature_importances)"
      ]
    },
    {
      "cell_type": "code",
      "execution_count": 13,
      "metadata": {
        "id": "GJQQL9tZY7l7"
      },
      "outputs": [
        {
          "data": {
            "application/vnd.jupyter.widget-view+json": {
              "model_id": "ba10c636e12c45d0a15a7cc39993930e",
              "version_major": 2,
              "version_minor": 0
            },
            "text/plain": [
              "MetricVisualizer(layout=Layout(align_self='stretch', height='500px'))"
            ]
          },
          "metadata": {},
          "output_type": "display_data"
        },
        {
          "name": "stdout",
          "output_type": "stream",
          "text": [
            "0:\tlearn: 3.5709011\ttest: 3.5799370\tbest: 3.5799370 (0)\ttotal: 437ms\tremaining: 7m 16s\n",
            "500:\tlearn: 1.8408385\ttest: 1.8321095\tbest: 1.8321095 (500)\ttotal: 2m 17s\tremaining: 2m 16s\n",
            "999:\tlearn: 1.8029078\ttest: 1.7907249\tbest: 1.7907249 (999)\ttotal: 5m 42s\tremaining: 0us\n",
            "\n",
            "bestTest = 1.790724892\n",
            "bestIteration = 999\n",
            "\n",
            "0:\tloss: 1.7907249\tbest: 1.7907249 (0)\ttotal: 5m 42s\tremaining: 2h 28m 31s\n",
            "0:\tlearn: 3.4818063\ttest: 3.4903317\tbest: 3.4903317 (0)\ttotal: 980ms\tremaining: 16m 19s\n",
            "500:\tlearn: 1.7724311\ttest: 1.7621077\tbest: 1.7621077 (500)\ttotal: 3m 14s\tremaining: 3m 13s\n",
            "999:\tlearn: 1.7517413\ttest: 1.7468925\tbest: 1.7468925 (999)\ttotal: 5m 52s\tremaining: 0us\n",
            "\n",
            "bestTest = 1.746892522\n",
            "bestIteration = 999\n",
            "\n",
            "1:\tloss: 1.7468925\tbest: 1.7468925 (1)\ttotal: 11m 35s\tremaining: 2h 24m 51s\n",
            "0:\tlearn: 3.3725306\ttest: 3.3804259\tbest: 3.3804259 (0)\ttotal: 586ms\tremaining: 9m 45s\n",
            "500:\tlearn: 1.7529916\ttest: 1.7478288\tbest: 1.7478288 (500)\ttotal: 2m 41s\tremaining: 2m 40s\n",
            "999:\tlearn: 1.7308238\ttest: 1.7362405\tbest: 1.7362405 (999)\ttotal: 5m 25s\tremaining: 0us\n",
            "\n",
            "bestTest = 1.736240479\n",
            "bestIteration = 999\n",
            "\n",
            "2:\tloss: 1.7362405\tbest: 1.7362405 (2)\ttotal: 17m 1s\tremaining: 2h 16m 10s\n",
            "0:\tlearn: 3.5709039\ttest: 3.5799399\tbest: 3.5799399 (0)\ttotal: 366ms\tremaining: 6m 5s\n",
            "500:\tlearn: 1.8443539\ttest: 1.8371419\tbest: 1.8371419 (500)\ttotal: 2m 21s\tremaining: 2m 20s\n",
            "999:\tlearn: 1.8046006\ttest: 1.7929543\tbest: 1.7929543 (999)\ttotal: 4m 30s\tremaining: 0us\n",
            "\n",
            "bestTest = 1.792954298\n",
            "bestIteration = 999\n",
            "\n",
            "3:\tloss: 1.7929543\tbest: 1.7362405 (2)\ttotal: 21m 31s\tremaining: 2h 3m 47s\n",
            "0:\tlearn: 3.4818204\ttest: 3.4903455\tbest: 3.4903455 (0)\ttotal: 324ms\tremaining: 5m 23s\n",
            "500:\tlearn: 1.7741722\ttest: 1.7630217\tbest: 1.7630217 (500)\ttotal: 2m 5s\tremaining: 2m 4s\n",
            "999:\tlearn: 1.7537326\ttest: 1.7472910\tbest: 1.7472910 (999)\ttotal: 4m 18s\tremaining: 0us\n",
            "\n",
            "bestTest = 1.747290995\n",
            "bestIteration = 999\n",
            "\n",
            "4:\tloss: 1.7472910\tbest: 1.7362405 (2)\ttotal: 25m 50s\tremaining: 1h 53m 42s\n",
            "0:\tlearn: 3.3725580\ttest: 3.3804530\tbest: 3.3804530 (0)\ttotal: 362ms\tremaining: 6m 1s\n",
            "500:\tlearn: 1.7545596\ttest: 1.7480907\tbest: 1.7480907 (500)\ttotal: 2m 19s\tremaining: 2m 18s\n",
            "999:\tlearn: 1.7333792\ttest: 1.7369434\tbest: 1.7369434 (999)\ttotal: 4m 42s\tremaining: 0us\n",
            "\n",
            "bestTest = 1.736943443\n",
            "bestIteration = 999\n",
            "\n",
            "5:\tloss: 1.7369434\tbest: 1.7362405 (2)\ttotal: 30m 33s\tremaining: 1h 46m 57s\n",
            "0:\tlearn: 3.5709067\ttest: 3.5799427\tbest: 3.5799427 (0)\ttotal: 341ms\tremaining: 5m 40s\n",
            "500:\tlearn: 1.8432423\ttest: 1.8355283\tbest: 1.8355283 (500)\ttotal: 2m 4s\tremaining: 2m 4s\n",
            "999:\tlearn: 1.8042360\ttest: 1.7927156\tbest: 1.7927156 (999)\ttotal: 4m 39s\tremaining: 0us\n",
            "\n",
            "bestTest = 1.792715642\n",
            "bestIteration = 999\n",
            "\n",
            "6:\tloss: 1.7927156\tbest: 1.7362405 (2)\ttotal: 35m 13s\tremaining: 1h 40m 38s\n",
            "0:\tlearn: 3.4818343\ttest: 3.4903594\tbest: 3.4903594 (0)\ttotal: 335ms\tremaining: 5m 34s\n",
            "500:\tlearn: 1.7742340\ttest: 1.7634447\tbest: 1.7634447 (500)\ttotal: 2m 19s\tremaining: 2m 19s\n",
            "999:\tlearn: 1.7536750\ttest: 1.7474290\tbest: 1.7474290 (999)\ttotal: 4m 46s\tremaining: 0us\n",
            "\n",
            "bestTest = 1.747428965\n",
            "bestIteration = 999\n",
            "\n",
            "7:\tloss: 1.7474290\tbest: 1.7362405 (2)\ttotal: 40m\tremaining: 1h 35m\n",
            "0:\tlearn: 3.3725853\ttest: 3.3804801\tbest: 3.3804801 (0)\ttotal: 355ms\tremaining: 5m 54s\n",
            "500:\tlearn: 1.7536987\ttest: 1.7474328\tbest: 1.7474328 (500)\ttotal: 2m 33s\tremaining: 2m 33s\n",
            "999:\tlearn: 1.7348133\ttest: 1.7372620\tbest: 1.7372620 (999)\ttotal: 5m 13s\tremaining: 0us\n",
            "\n",
            "bestTest = 1.737261967\n",
            "bestIteration = 999\n",
            "\n",
            "8:\tloss: 1.7372620\tbest: 1.7362405 (2)\ttotal: 45m 13s\tremaining: 1h 30m 26s\n",
            "0:\tlearn: 3.5696600\ttest: 3.5787118\tbest: 3.5787118 (0)\ttotal: 422ms\tremaining: 7m 1s\n",
            "500:\tlearn: 1.8158814\ttest: 1.8083450\tbest: 1.8083450 (500)\ttotal: 3m 13s\tremaining: 3m 12s\n",
            "999:\tlearn: 1.7795289\ttest: 1.7717475\tbest: 1.7717475 (999)\ttotal: 6m 30s\tremaining: 0us\n",
            "\n",
            "bestTest = 1.771747534\n",
            "bestIteration = 999\n",
            "\n",
            "9:\tloss: 1.7717475\tbest: 1.7362405 (2)\ttotal: 51m 43s\tremaining: 1h 27m 56s\n",
            "0:\tlearn: 3.4755651\ttest: 3.4841647\tbest: 3.4841647 (0)\ttotal: 415ms\tremaining: 6m 54s\n",
            "500:\tlearn: 1.7447201\ttest: 1.7468214\tbest: 1.7468214 (500)\ttotal: 3m 38s\tremaining: 3m 37s\n",
            "999:\tlearn: 1.7154962\ttest: 1.7339767\tbest: 1.7339767 (999)\ttotal: 7m 12s\tremaining: 0us\n",
            "\n",
            "bestTest = 1.733976728\n",
            "bestIteration = 999\n",
            "\n",
            "10:\tloss: 1.7339767\tbest: 1.7339767 (10)\ttotal: 58m 56s\tremaining: 1h 25m 43s\n",
            "0:\tlearn: 3.3599610\ttest: 3.3679911\tbest: 3.3679911 (0)\ttotal: 444ms\tremaining: 7m 23s\n",
            "500:\tlearn: 1.7170889\ttest: 1.7343505\tbest: 1.7343505 (500)\ttotal: 3m 34s\tremaining: 3m 33s\n",
            "999:\tlearn: 1.6802206\ttest: 1.7267266\tbest: 1.7267197 (997)\ttotal: 7m 16s\tremaining: 0us\n",
            "\n",
            "bestTest = 1.726719657\n",
            "bestIteration = 997\n",
            "\n",
            "11:\tloss: 1.7267197\tbest: 1.7267197 (11)\ttotal: 1h 6m 13s\tremaining: 1h 22m 46s\n",
            "0:\tlearn: 3.5696698\ttest: 3.5787218\tbest: 3.5787218 (0)\ttotal: 443ms\tremaining: 7m 22s\n",
            "500:\tlearn: 1.8167393\ttest: 1.8088595\tbest: 1.8088595 (500)\ttotal: 3m 8s\tremaining: 3m 8s\n",
            "999:\tlearn: 1.7806373\ttest: 1.7722551\tbest: 1.7722551 (999)\ttotal: 6m 32s\tremaining: 0us\n",
            "\n",
            "bestTest = 1.772255064\n",
            "bestIteration = 999\n",
            "\n",
            "12:\tloss: 1.7722551\tbest: 1.7267197 (11)\ttotal: 1h 12m 45s\tremaining: 1h 18m 21s\n",
            "0:\tlearn: 3.4756138\ttest: 3.4842141\tbest: 3.4842141 (0)\ttotal: 414ms\tremaining: 6m 53s\n",
            "500:\tlearn: 1.7465347\ttest: 1.7475893\tbest: 1.7475880 (499)\ttotal: 3m 7s\tremaining: 3m 6s\n",
            "999:\tlearn: 1.7193884\ttest: 1.7351333\tbest: 1.7351333 (999)\ttotal: 6m 14s\tremaining: 0us\n",
            "\n",
            "bestTest = 1.735133264\n",
            "bestIteration = 999\n",
            "\n",
            "13:\tloss: 1.7351333\tbest: 1.7267197 (11)\ttotal: 1h 19m\tremaining: 1h 13m 21s\n",
            "0:\tlearn: 3.3600564\ttest: 3.3680878\tbest: 3.3680878 (0)\ttotal: 394ms\tremaining: 6m 33s\n",
            "500:\tlearn: 1.7204162\ttest: 1.7352095\tbest: 1.7352095 (500)\ttotal: 3m 5s\tremaining: 3m 5s\n",
            "999:\tlearn: 1.6884663\ttest: 1.7262435\tbest: 1.7262399 (991)\ttotal: 6m 25s\tremaining: 0us\n",
            "\n",
            "bestTest = 1.726239905\n",
            "bestIteration = 991\n",
            "\n",
            "14:\tloss: 1.7262399\tbest: 1.7262399 (14)\ttotal: 1h 25m 26s\tremaining: 1h 8m 20s\n",
            "0:\tlearn: 3.5696797\ttest: 3.5787318\tbest: 3.5787318 (0)\ttotal: 396ms\tremaining: 6m 35s\n",
            "500:\tlearn: 1.8158403\ttest: 1.8079835\tbest: 1.8079835 (500)\ttotal: 2m 47s\tremaining: 2m 46s\n",
            "999:\tlearn: 1.7806242\ttest: 1.7720212\tbest: 1.7720212 (999)\ttotal: 6m 20s\tremaining: 0us\n",
            "\n",
            "bestTest = 1.772021223\n",
            "bestIteration = 999\n",
            "\n",
            "15:\tloss: 1.7720212\tbest: 1.7262399 (14)\ttotal: 1h 31m 46s\tremaining: 1h 3m 5s\n",
            "0:\tlearn: 3.4756622\ttest: 3.4842633\tbest: 3.4842633 (0)\ttotal: 451ms\tremaining: 7m 30s\n",
            "500:\tlearn: 1.7474674\ttest: 1.7468668\tbest: 1.7468668 (500)\ttotal: 3m 56s\tremaining: 3m 55s\n",
            "999:\tlearn: 1.7235720\ttest: 1.7352791\tbest: 1.7352791 (999)\ttotal: 8m 54s\tremaining: 0us\n",
            "\n",
            "bestTest = 1.735279143\n",
            "bestIteration = 999\n",
            "\n",
            "16:\tloss: 1.7352791\tbest: 1.7262399 (14)\ttotal: 1h 40m 41s\tremaining: 59m 13s\n",
            "0:\tlearn: 3.3601513\ttest: 3.3681843\tbest: 3.3681843 (0)\ttotal: 791ms\tremaining: 13m 10s\n",
            "500:\tlearn: 1.7243828\ttest: 1.7363541\tbest: 1.7363541 (500)\ttotal: 6m 26s\tremaining: 6m 25s\n",
            "999:\tlearn: 1.6929198\ttest: 1.7281966\tbest: 1.7281966 (999)\ttotal: 11m 50s\tremaining: 0us\n",
            "\n",
            "bestTest = 1.728196611\n",
            "bestIteration = 999\n",
            "\n",
            "17:\tloss: 1.7281966\tbest: 1.7262399 (14)\ttotal: 1h 52m 32s\tremaining: 56m 16s\n",
            "0:\tlearn: 3.5688776\ttest: 3.5779654\tbest: 3.5779654 (0)\ttotal: 1.94s\tremaining: 32m 22s\n",
            "500:\tlearn: 1.7922026\ttest: 1.7892176\tbest: 1.7892176 (500)\ttotal: 7m 49s\tremaining: 7m 47s\n",
            "999:\tlearn: 1.7541932\ttest: 1.7584841\tbest: 1.7584841 (999)\ttotal: 16m 9s\tremaining: 0us\n",
            "\n",
            "bestTest = 1.758484058\n",
            "bestIteration = 999\n",
            "\n",
            "18:\tloss: 1.7584841\tbest: 1.7262399 (14)\ttotal: 2h 8m 42s\tremaining: 54m 11s\n",
            "0:\tlearn: 3.4716254\ttest: 3.4804025\tbest: 3.4804025 (0)\ttotal: 1.1s\tremaining: 18m 24s\n",
            "500:\tlearn: 1.7011529\ttest: 1.7357901\tbest: 1.7357901 (500)\ttotal: 11m 1s\tremaining: 10m 58s\n",
            "999:\tlearn: 1.6495323\ttest: 1.7256538\tbest: 1.7256538 (999)\ttotal: 18m 38s\tremaining: 0us\n",
            "\n",
            "bestTest = 1.725653775\n",
            "bestIteration = 999\n",
            "\n",
            "19:\tloss: 1.7256538\tbest: 1.7256538 (19)\ttotal: 2h 27m 21s\tremaining: 51m 34s\n",
            "0:\tlearn: 3.3520120\ttest: 3.3603914\tbest: 3.3603914 (0)\ttotal: 643ms\tremaining: 10m 41s\n",
            "500:\tlearn: 1.6514257\ttest: 1.7282353\tbest: 1.7282043 (499)\ttotal: 7m 1s\tremaining: 6m 59s\n",
            "999:\tlearn: 1.5807087\ttest: 1.7234764\tbest: 1.7234764 (999)\ttotal: 14m\tremaining: 0us\n",
            "\n",
            "bestTest = 1.723476444\n",
            "bestIteration = 999\n",
            "\n",
            "20:\tloss: 1.7234764\tbest: 1.7234764 (20)\ttotal: 2h 41m 21s\tremaining: 46m 6s\n",
            "0:\tlearn: 3.5689050\ttest: 3.5779916\tbest: 3.5779916 (0)\ttotal: 663ms\tremaining: 11m 1s\n",
            "500:\tlearn: 1.7939278\ttest: 1.7907195\tbest: 1.7907195 (500)\ttotal: 6m 6s\tremaining: 6m 4s\n",
            "999:\tlearn: 1.7565811\ttest: 1.7588897\tbest: 1.7588897 (999)\ttotal: 13m 26s\tremaining: 0us\n",
            "\n",
            "bestTest = 1.758889719\n",
            "bestIteration = 999\n",
            "\n",
            "21:\tloss: 1.7588897\tbest: 1.7234764 (20)\ttotal: 2h 54m 48s\tremaining: 39m 43s\n",
            "0:\tlearn: 3.4717608\ttest: 3.4805321\tbest: 3.4805321 (0)\ttotal: 696ms\tremaining: 11m 35s\n",
            "500:\tlearn: 1.7092271\ttest: 1.7372834\tbest: 1.7372834 (500)\ttotal: 7m 16s\tremaining: 7m 14s\n",
            "999:\tlearn: 1.6631222\ttest: 1.7271196\tbest: 1.7271196 (999)\ttotal: 17m 23s\tremaining: 0us\n",
            "\n",
            "bestTest = 1.72711961\n",
            "bestIteration = 999\n",
            "\n",
            "22:\tloss: 1.7271196\tbest: 1.7234764 (20)\ttotal: 3h 12m 12s\tremaining: 33m 25s\n",
            "0:\tlearn: 3.3522780\ttest: 3.3606459\tbest: 3.3606459 (0)\ttotal: 995ms\tremaining: 16m 33s\n",
            "500:\tlearn: 1.6662778\ttest: 1.7289350\tbest: 1.7289266 (499)\ttotal: 7m 51s\tremaining: 7m 49s\n",
            "999:\tlearn: 1.6027690\ttest: 1.7239990\tbest: 1.7239749 (989)\ttotal: 16m 7s\tremaining: 0us\n",
            "\n",
            "bestTest = 1.723974856\n",
            "bestIteration = 989\n",
            "\n",
            "23:\tloss: 1.7239749\tbest: 1.7234764 (20)\ttotal: 3h 28m 19s\tremaining: 26m 2s\n",
            "0:\tlearn: 3.5689319\ttest: 3.5780175\tbest: 3.5780175 (0)\ttotal: 897ms\tremaining: 14m 56s\n",
            "500:\tlearn: 1.7937475\ttest: 1.7899103\tbest: 1.7899103 (500)\ttotal: 6m 45s\tremaining: 6m 44s\n",
            "999:\tlearn: 1.7570821\ttest: 1.7582177\tbest: 1.7582177 (999)\ttotal: 13m 35s\tremaining: 0us\n",
            "\n",
            "bestTest = 1.758217683\n",
            "bestIteration = 999\n",
            "\n",
            "24:\tloss: 1.7582177\tbest: 1.7234764 (20)\ttotal: 3h 41m 55s\tremaining: 17m 45s\n",
            "0:\tlearn: 3.4718935\ttest: 3.4806600\tbest: 3.4806600 (0)\ttotal: 799ms\tremaining: 13m 17s\n",
            "500:\tlearn: 1.7136418\ttest: 1.7362520\tbest: 1.7362520 (500)\ttotal: 6m 27s\tremaining: 6m 26s\n",
            "999:\tlearn: 1.6742024\ttest: 1.7267733\tbest: 1.7267733 (999)\ttotal: 13m 40s\tremaining: 0us\n",
            "\n",
            "bestTest = 1.726773312\n",
            "bestIteration = 999\n",
            "\n",
            "25:\tloss: 1.7267733\tbest: 1.7234764 (20)\ttotal: 3h 55m 35s\tremaining: 9m 3s\n",
            "0:\tlearn: 3.3525386\ttest: 3.3608972\tbest: 3.3608972 (0)\ttotal: 605ms\tremaining: 10m 3s\n",
            "500:\tlearn: 1.6744555\ttest: 1.7280480\tbest: 1.7280480 (500)\ttotal: 7m 4s\tremaining: 7m 3s\n",
            "999:\tlearn: 1.6126275\ttest: 1.7216638\tbest: 1.7216638 (999)\ttotal: 14m 48s\tremaining: 0us\n",
            "\n",
            "bestTest = 1.721663826\n",
            "bestIteration = 999\n",
            "\n",
            "26:\tloss: 1.7216638\tbest: 1.7216638 (26)\ttotal: 4h 10m 24s\tremaining: 0us\n",
            "Estimating final quality...\n",
            "Training on fold [0/3]\n",
            "0:\tlearn: 3.3592345\ttest: 3.3540294\tbest: 3.3540294 (0)\ttotal: 1.31s\tremaining: 21m 51s\n",
            "500:\tlearn: 1.6634498\ttest: 1.7332481\tbest: 1.7332481 (500)\ttotal: 6m 44s\tremaining: 6m 43s\n",
            "999:\tlearn: 1.5969854\ttest: 1.7285278\tbest: 1.7285111 (988)\ttotal: 13m 43s\tremaining: 0us\n",
            "\n",
            "bestTest = 1.728511134\n",
            "bestIteration = 988\n",
            "\n",
            "Training on fold [1/3]\n",
            "0:\tlearn: 3.3551766\ttest: 3.3645552\tbest: 3.3645552 (0)\ttotal: 593ms\tremaining: 9m 52s\n",
            "500:\tlearn: 1.6644525\ttest: 1.7478040\tbest: 1.7478029 (499)\ttotal: 6m 29s\tremaining: 6m 27s\n",
            "999:\tlearn: 1.5979924\ttest: 1.7420063\tbest: 1.7419474 (995)\ttotal: 13m 20s\tremaining: 0us\n",
            "\n",
            "bestTest = 1.741947406\n",
            "bestIteration = 995\n",
            "\n",
            "Training on fold [2/3]\n",
            "0:\tlearn: 3.3596158\ttest: 3.3573766\tbest: 3.3573766 (0)\ttotal: 523ms\tremaining: 8m 42s\n",
            "500:\tlearn: 1.6689712\ttest: 1.7324674\tbest: 1.7324674 (500)\ttotal: 6m 2s\tremaining: 6m 1s\n",
            "999:\tlearn: 1.6017362\ttest: 1.7260026\tbest: 1.7260026 (999)\ttotal: 12m 12s\tremaining: 0us\n",
            "\n",
            "bestTest = 1.726002599\n",
            "bestIteration = 999\n",
            "\n",
            "Best Parameters: {'depth': 10, 'learning_rate': 0.1, 'l2_leaf_reg': 5}\n"
          ]
        }
      ],
      "source": [
        "from catboost import CatBoostRegressor, Pool, cv\n",
        "\n",
        "# Prepare the Pool object\n",
        "train_pool = Pool(X_train, y_train, cat_features=categorical_features)\n",
        "valid_pool = Pool(X_valid, y_valid, cat_features=categorical_features)\n",
        "\n",
        "# Initialize a new CatBoostRegressor instance specifically for tuning\n",
        "tuning_model = CatBoostRegressor(loss_function='RMSE', verbose=500)\n",
        "\n",
        "# Define the parameter grid\n",
        "param_grid = {\n",
        "    'depth': [6, 8, 10],\n",
        "    'learning_rate': [0.01, 0.05, 0.1],\n",
        "    'l2_leaf_reg': [1, 3, 5]\n",
        "}\n",
        "\n",
        "# Perform grid search\n",
        "results = tuning_model.grid_search(param_grid, train_pool, cv=3, partition_random_seed=42, stratified=False, verbose=True, plot=True)\n",
        "\n",
        "# Best parameters\n",
        "print(\"Best Parameters:\", results['params'])"
      ]
    },
    {
      "cell_type": "code",
      "execution_count": null,
      "metadata": {
        "id": "H1-wmUcQZAt_"
      },
      "outputs": [],
      "source": [
        "# Define your optimal parameters\n",
        "params = {\n",
        "    'iterations': 1000,\n",
        "    'depth': 10,\n",
        "    'learning_rate': 0.1,\n",
        "    'l2_leaf_reg': 5,\n",
        "    'loss_function': 'RMSE',\n",
        "    'verbose': 100,\n",
        "    'random_seed': 42\n",
        "}\n",
        "\n",
        "# Prepare the complete dataset as a Pool, including categorical features if any\n",
        "full_data = Pool(data=X, label=y, cat_features=categorical_features)\n",
        "\n",
        "# Execute cross-validation\n",
        "cv_results = cv(\n",
        "    params=params,\n",
        "    pool=full_data,\n",
        "    fold_count=5,\n",
        "    type='Classical',  # Choose 'Classical' or 'TimeSeries' based on your data nature\n",
        "    shuffle=True,\n",
        "    partition_random_seed=42,\n",
        "    plot=True,\n",
        "    stratified=False,\n",
        "    verbose=True\n",
        ")\n",
        "\n",
        "# Extract and print results\n",
        "best_cv_score = np.min(cv_results['test-RMSE-mean'])\n",
        "print(f'Best CV RMSE: {best_cv_score}')\n"
      ]
    },
    {
      "cell_type": "code",
      "execution_count": 123,
      "metadata": {
        "id": "215_5eBIZGUh"
      },
      "outputs": [
        {
          "name": "stdout",
          "output_type": "stream",
          "text": [
            "0:\tlearn: 2.5161162\ttotal: 1.06s\tremaining: 17m 39s\n",
            "100:\tlearn: 1.7520803\ttotal: 2m 15s\tremaining: 20m 7s\n",
            "200:\tlearn: 1.7274859\ttotal: 5m\tremaining: 19m 56s\n",
            "300:\tlearn: 1.7100155\ttotal: 7m 59s\tremaining: 18m 32s\n",
            "400:\tlearn: 1.6961172\ttotal: 10m 53s\tremaining: 16m 15s\n",
            "500:\tlearn: 1.6864413\ttotal: 13m 52s\tremaining: 13m 49s\n",
            "600:\tlearn: 1.6771669\ttotal: 16m 55s\tremaining: 11m 13s\n",
            "700:\tlearn: 1.6681314\ttotal: 20m 20s\tremaining: 8m 40s\n",
            "800:\tlearn: 1.6591236\ttotal: 23m 6s\tremaining: 5m 44s\n",
            "900:\tlearn: 1.6523933\ttotal: 26m 28s\tremaining: 2m 54s\n",
            "999:\tlearn: 1.6455847\ttotal: 29m 45s\tremaining: 0us\n"
          ]
        },
        {
          "data": {
            "text/plain": [
              "<catboost.core.CatBoostRegressor at 0x328e213d0>"
            ]
          },
          "execution_count": 123,
          "metadata": {},
          "output_type": "execute_result"
        }
      ],
      "source": [
        "# Initialize the model with the best parameters\n",
        "final_model = CatBoostRegressor(\n",
        "    iterations=1000,\n",
        "    depth=10,\n",
        "    learning_rate=0.1,\n",
        "    l2_leaf_reg=5,\n",
        "    loss_function='RMSE',\n",
        "    verbose=100,\n",
        "    random_seed=42\n",
        ")\n",
        "\n",
        "# Train the model on the full dataset\n",
        "final_model.fit(X, y, cat_features=categorical_features)"
      ]
    },
    {
      "cell_type": "code",
      "execution_count": 15,
      "metadata": {
        "id": "xxXob3LIZJBa"
      },
      "outputs": [],
      "source": [
        "import pickle\n",
        "\n",
        "# Save the model using pickle\n",
        "with open('app/sales_catboost-0.1.0.pkl', 'wb') as f:\n",
        "    pickle.dump(final_model, f)"
      ]
    },
    {
      "cell_type": "code",
      "execution_count": 166,
      "metadata": {},
      "outputs": [],
      "source": [
        "data_2024 = pd.read_csv('data/data_2024_pred.csv')\n",
        "data_2024_fechas = data_2024.copy()\n",
        "data_2024['Passengers'] = data_2024['Predicted_Passengers']\n",
        "\n",
        "drop = ['Predicted_Passengers', 'Bookings']\n",
        "data_2024.drop(drop, axis=1, inplace=True)"
      ]
    },
    {
      "cell_type": "code",
      "execution_count": 167,
      "metadata": {},
      "outputs": [],
      "source": [
        "def data_preprocessing_pred(data):\n",
        "    data['STD'] = pd.to_datetime(data['STD'])  # Make sure the STD column is in datetime format\n",
        "    # Create a new column 'holidays' based on whether the date in 'STD' is a holiday\n",
        "    data['holidays'] = data['STD'].apply(is_holiday).astype(int)  # Convert boolean to int (1 for True, 0 for False)\n",
        "    data['month'] = data['STD'].dt.month\n",
        "    data['day_of_week'] = data['STD'].dt.dayofweek\n",
        "    data['hour'] = data['STD'].dt.hour\n",
        "    data['minute'] = data['STD'].dt.minute  # Extracting minute\n",
        "    # Define categorical features for CatBoost\n",
        "    # Splitting the data\n",
        "    X = data.drop(['STA','Flight_ID', 'Aeronave'], axis=1)\n",
        "    return X"
      ]
    },
    {
      "cell_type": "code",
      "execution_count": 168,
      "metadata": {},
      "outputs": [],
      "source": [
        "data_2024 = data_preprocessing_pred(data_2024)"
      ]
    },
    {
      "cell_type": "code",
      "execution_count": 169,
      "metadata": {},
      "outputs": [],
      "source": [
        "products = ['Carne Seca Habanero', 'Cheetos', 'Ruffles Queso',\n",
        "       'Coca Sin Azucar', 'Jack And Coke', 'Sprite', 'Nissin Res',\n",
        "       'Tecate Light', 'Mafer Sin Sal', 'Coca Cola Regular',\n",
        "       'Ron Bacardi', 'Arcoiris', 'Cafe 19 Chiapas',\n",
        "       'Sabritas Originales', 'Xx Lager', 'Jugo De Manzana',\n",
        "       'Agua Natural 600 Ml', 'Cafe Costa', 'Amstel Ultra',\n",
        "       'Panini Clasico', 'Fanta De Naranja', 'Nishikawa Japones',\n",
        "       'Sabritas Flamin Hot', 'Jw Red Label ', 'Ciel Mineralizada',\n",
        "       'Jugo De Mango', 'Sidral Mundet', 'Coca Cola Dieta', 'Chokis',\n",
        "       'Tostitos', 'Mega Cuerno Clasico', 'Doritos Nacho',\n",
        "       'Fritos Limon Y Sal', 'Corajillo Baileys ',\n",
        "       'Quaker Avena Frutos Rojos', 'Nutty Berry Mix',\n",
        "       'Heineken Original', 'Vino Tinto Sangre De Toro', 'Luxury Nut Mix',\n",
        "       'Salsa Botanera', 'Jw Red Label', 'Nissin Picante',\n",
        "       'Heineken Silver', 'Leche De Fresa Sc', 'Cheetos Flamin Hot',\n",
        "       'Emperador Chocolate', 'Cuerno Clasico De Pavo',\n",
        "       'Nissin Dark Dragon', 'Nissin Fuego', 'Panini Integral',\n",
        "       'Cafe 19 Capuchino', 'Te Manzanilla Jengibre', 'Xx Ultra',\n",
        "       'Sol Clamato', 'Go Nuts', 'Muffin Integral', 'Dip De Queso',\n",
        "       'Hazme Doble', 'Baileys', 'Nishikawa Salado', 'Corajillo',\n",
        "       'Quaker Granola', 'Tequila 7 Leguas Reposado',\n",
        "       'Emperador Vainilla', 'Leche De Chocolate Sc',\n",
        "       'Arandano Mango Mix', 'Topochico Seltzer Mango', 'Rancheritos',\n",
        "       'Baileys ', 'Protein Adventure', 'Tequila 7 Leguas Blanco',\n",
        "       'Nueces De Arbol Mix', 'Cafe De Olla', 'Te Vainilla',\n",
        "       'Tostitos Nachos Con Dip', 'Frutos Secos Enchilados', 'Hsbc-Viva',\n",
        "       'Ultra Seltzer Frambuesa', 'Arandano', 'Te Frutos Rojos',\n",
        "       'Vino Tinto Cria Cuervos', 'Carne Seca Original', 'Te Relax',\n",
        "       'Vino Blanco Cria Cuervos ', 'Topochico Seltzer Fresa-Guayaba',\n",
        "       'Galleta De Arandano Relleno De Q/Crema',\n",
        "       'Galleta De Chispas De Chocolate', 'Promo Hsbc 1 Bebida Gratis',\n",
        "       'Galleta De Chocolate', 'Cerveza Charter', 'Eco Holder',\n",
        "       'Cafe 19 Cafe Clasico', 'Gomita Enchilada La Cueva', 'Maxi Combo',\n",
        "       'Heineken 0', 'Combo Stl', 'Kacang Flaming Hot', 'Licor Charter',\n",
        "       'Quaker Avena Moras', 'Quaker Natural Balance',\n",
        "       'Nissin Limon Y Habanero']"
      ]
    },
    {
      "cell_type": "code",
      "execution_count": 170,
      "metadata": {},
      "outputs": [],
      "source": [
        "# Repetir cada fila len(products) veces\n",
        "repeated_df = data_2024.loc[data_2024.index.repeat(len(products))].reset_index(drop=True)\n",
        "\n",
        "# Asignar productos a cada fila repetida\n",
        "repeated_df['ProductName'] = products * len(data_2024)\n",
        "repeated_df['ProductType'] = repeated_df['ProductName'].map(product_type)\n"
      ]
    },
    {
      "cell_type": "code",
      "execution_count": 171,
      "metadata": {},
      "outputs": [],
      "source": [
        "date_col = repeated_df['STD']\n",
        "repeated_df = repeated_df.drop(['STD'], axis=1)"
      ]
    },
    {
      "cell_type": "code",
      "execution_count": 172,
      "metadata": {},
      "outputs": [],
      "source": [
        "cat_features = ['DepartureStation', 'ArrivalStation', 'Destination_Type', 'Origin_Type', 'tipo_vuelo', 'ProductName', 'ProductType']\n",
        "for feature in cat_features:\n",
        "    repeated_df[feature] = repeated_df[feature].astype('category')\n",
        "\n",
        "repeated_df = repeated_df[['ProductType', 'ProductName', 'Capacity', 'DepartureStation',\n",
        "       'ArrivalStation', 'Destination_Type', 'Origin_Type', 'Passengers',\n",
        "       'tipo_vuelo', 'holidays', 'month', 'day_of_week', 'hour', 'minute']]\n",
        "\n",
        "# Now, predict using the model\n",
        "predictions = final_model.predict(repeated_df)\n"
      ]
    },
    {
      "cell_type": "code",
      "execution_count": 173,
      "metadata": {},
      "outputs": [],
      "source": [
        "import numpy as np\n",
        "predictions = np.floor(predictions)"
      ]
    },
    {
      "cell_type": "code",
      "execution_count": 177,
      "metadata": {},
      "outputs": [],
      "source": [
        "repeated_df['Quantity'] = predictions\n",
        "repeated_df['STD'] = date_col"
      ]
    },
    {
      "cell_type": "code",
      "execution_count": 178,
      "metadata": {},
      "outputs": [
        {
          "data": {
            "text/plain": [
              "(1025049, 16)"
            ]
          },
          "execution_count": 178,
          "metadata": {},
          "output_type": "execute_result"
        }
      ],
      "source": [
        "repeated_df.shape"
      ]
    },
    {
      "cell_type": "code",
      "execution_count": 180,
      "metadata": {},
      "outputs": [],
      "source": [
        "repeated_df.to_csv('data/sales_predictions_2024.csv', index=False)"
      ]
    }
  ],
  "metadata": {
    "accelerator": "GPU",
    "colab": {
      "gpuType": "T4",
      "provenance": []
    },
    "kernelspec": {
      "display_name": "Python 3",
      "name": "python3"
    },
    "language_info": {
      "codemirror_mode": {
        "name": "ipython",
        "version": 3
      },
      "file_extension": ".py",
      "mimetype": "text/x-python",
      "name": "python",
      "nbconvert_exporter": "python",
      "pygments_lexer": "ipython3",
      "version": "3.11.2"
    }
  },
  "nbformat": 4,
  "nbformat_minor": 0
}
